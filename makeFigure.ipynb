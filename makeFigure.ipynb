{
 "cells": [
  {
   "cell_type": "code",
   "execution_count": 1,
   "metadata": {},
   "outputs": [],
   "source": [
    "import numpy as np\n",
    "import pandas as pd\n",
    "from skimage import io\n",
    "import skimage\n",
    "# %matplotlib notebook\n",
    "%matplotlib inline\n",
    "from matplotlib import pyplot as plt\n",
    "from matplotlib.patches import Circle\n",
    "import matplotlib.gridspec as gridspec\n",
    "\n",
    "import ipywidgets as widgets\n",
    "from IPython.display import display"
   ]
  },
  {
   "cell_type": "code",
   "execution_count": 2,
   "metadata": {},
   "outputs": [],
   "source": [
    "dfall = pd.read_pickle('datatable.pkl')\n",
    "full_image = io.imread('DAPI_CN1621-SYFP_Gad1-594_Vip-546_Pvalb-647_(29JUL19)_30x_150umDeep.tif')\n",
    "single_image = full_image[1]"
   ]
  },
  {
   "cell_type": "code",
   "execution_count": null,
   "metadata": {},
   "outputs": [],
   "source": [
    "# color_dictionary = {}\n",
    "# markers=list(dfall.marker_type.unique())\n",
    "# for mar in markers:\n",
    "#     color_dictionary[mar] = 'red'\n",
    "\n",
    "# m = widgets.ToggleButtons(options=markers,\n",
    "#                           description='Marker:')\n",
    "# c0 = widgets.ColorPicker(value='red')\n",
    "# setm = widgets.Button(description='Set Color',\n",
    "#                     button_style='info')\n",
    "\n",
    "# def set_color(change):\n",
    "#     color_dictionary[m.value]=c0.value\n",
    "\n",
    "\n",
    "# setm.on_click(set_color)\n",
    "\n",
    "# display(m,c0,setm)\n",
    "    "
   ]
  },
  {
   "cell_type": "code",
   "execution_count": null,
   "metadata": {},
   "outputs": [],
   "source": [
    "# def plot_hist_img(limits,radio_channel):\n",
    "#     df=dfall\n",
    "#     df = df[(df['intensity_value'] >= limits[0]) & (df['intensity_value'] <= limits[1])]\n",
    "#     fig, ax = plt.subplots(1, 2, figsize=(10, 20), sharey=False)\n",
    "#     ax[0].hist(df['intensity_value'], bins=int(((limits[1]-limits[0])/20)))\n",
    "#     ax[0].set_xlim(0,255)\n",
    "    \n",
    "#     ax[1].imshow(full_image[radio_channel])\n",
    "#     for index,row in df.iterrows():\n",
    "#         c = color_dictionary[row['marker_type']]\n",
    "#         x = row['x_coord']\n",
    "#         y = row['y_coord']\n",
    "#         circ = Circle((x,y),90,color=c)\n",
    "#         ax[1].add_patch(circ)\n",
    "# #     print('Number of data points: ', df.shape[0])\n",
    "\n",
    "\n",
    "# w = widgets.interact_manual(plot_hist_img,\n",
    "#                 limits=widgets.IntRangeSlider(value=(0,255),\n",
    "#                                              min=0,\n",
    "#                                              max=255,\n",
    "#                                              step=1,\n",
    "#                                              description='Set Threshold:'),\n",
    "#                 radio_channel=widgets.Dropdown(options=list(range(full_image.shape[0])),\n",
    "#                                               value=1,\n",
    "#                                               description='Channel:')\n",
    "                \n",
    "#                     )\n",
    "# display(w)"
   ]
  },
  {
   "cell_type": "code",
   "execution_count": null,
   "metadata": {},
   "outputs": [],
   "source": [
    "markers=list(dfall.marker_type.unique())\n",
    "marker_array = np.zeros((len(markers),255), dtype=int)\n",
    "for mr in range(len(markers)):\n",
    "    dfmark=dfall[dfall.marker_type == markers[mr]]\n",
    "#     print(dfmark)\n",
    "    for v in range(255):\n",
    "        count_over_v=dfmark[dfmark.intensity_value >= v]\n",
    "        marker_array[mr,v]=len(count_over_v.index)\n",
    "print(marker_array)\n",
    "        \n",
    "\n",
    "    "
   ]
  },
  {
   "cell_type": "code",
   "execution_count": null,
   "metadata": {},
   "outputs": [],
   "source": []
  },
  {
   "cell_type": "code",
   "execution_count": 8,
   "metadata": {},
   "outputs": [
    {
     "data": {
      "application/vnd.jupyter.widget-view+json": {
       "model_id": "4dedaa7e170543f9a316b415f27d1ffa",
       "version_major": 2,
       "version_minor": 0
      },
      "text/plain": [
       "ToggleButtons(description='Marker:', options=('syfp_only', 'gad1+', 'gad1+vip+', 'gad1+pvalb+'), value='syfp_o…"
      ]
     },
     "metadata": {},
     "output_type": "display_data"
    },
    {
     "data": {
      "application/vnd.jupyter.widget-view+json": {
       "model_id": "cb97767be6d04d9682859efb4497b570",
       "version_major": 2,
       "version_minor": 0
      },
      "text/plain": [
       "ColorPicker(value='red')"
      ]
     },
     "metadata": {},
     "output_type": "display_data"
    },
    {
     "data": {
      "application/vnd.jupyter.widget-view+json": {
       "model_id": "00b3eb7cb92c4e049754aa1e3789ff25",
       "version_major": 2,
       "version_minor": 0
      },
      "text/plain": [
       "Button(button_style='info', description='Set Color', style=ButtonStyle())"
      ]
     },
     "metadata": {},
     "output_type": "display_data"
    },
    {
     "data": {
      "application/vnd.jupyter.widget-view+json": {
       "model_id": "932a4ff3389548b0ae7171b38e79fe5e",
       "version_major": 2,
       "version_minor": 0
      },
      "text/plain": [
       "interactive(children=(IntRangeSlider(value=(0, 255), description='Set Threshold:', max=255), Dropdown(descript…"
      ]
     },
     "metadata": {},
     "output_type": "display_data"
    },
    {
     "data": {
      "text/plain": [
       "<function __main__.plot_hist_img(limits, radio_channel, marker_size)>"
      ]
     },
     "metadata": {},
     "output_type": "display_data"
    }
   ],
   "source": [
    "color_dictionary = {'syfp_only':'#2bfa05', 'gad1+':'#fb04e9', 'gad1+vip+':'#ecf807'}\n",
    "markers=list(dfall.marker_type.unique())\n",
    "for mar in markers:\n",
    "    color_dictionary[mar] = 'red'\n",
    "    \n",
    "m = widgets.ToggleButtons(options=markers,\n",
    "                          description='Marker:')\n",
    "c0 = widgets.ColorPicker(value='red')\n",
    "setm = widgets.Button(description='Set Color',\n",
    "                    button_style='info')\n",
    "\n",
    "def set_color(change):\n",
    "    color_dictionary[m.value]=c0.value\n",
    "\n",
    "setm.on_click(set_color)\n",
    "display(m,c0,setm)\n",
    "    \n",
    "\n",
    "\n",
    "\n",
    "\n",
    "def plot_hist_img(limits,radio_channel,marker_size):\n",
    "    df=dfall\n",
    "    df = df[(df['intensity_value'] >= limits[0]) & (df['intensity_value'] <= limits[1])]\n",
    "    print('Number of data points: ', df.shape[0])\n",
    "    gs = gridspec.GridSpec(3,3)\n",
    "    fig = plt.figure(figsize=(18,20),tight_layout=False)\n",
    "    ax0 = fig.add_subplot(gs[0,0])\n",
    "    ax0.hist(df['intensity_value'], bins=int(((limits[1]-limits[0])/20)))\n",
    "    ax0.set_xlim(0,255)\n",
    "    \n",
    "    ax1 = fig.add_subplot(gs[0:,1:])\n",
    "    ax1.imshow(full_image[radio_channel])\n",
    "    for index,row in df.iterrows():\n",
    "        c = color_dictionary[row['marker_type']]\n",
    "        x = row['x_coord']\n",
    "        y = row['y_coord']\n",
    "        circ = Circle((x,y),marker_size,color=c)\n",
    "        ax1.add_patch(circ)\n",
    "    \n",
    "    marker_array = np.zeros((len(markers),255), dtype=int)\n",
    "    for mr in range(len(markers)):\n",
    "        dfmark=dfall[dfall.marker_type == markers[mr]]\n",
    "        for v in range(255):\n",
    "            count_over_v=dfmark[dfmark.intensity_value >= v]\n",
    "            marker_array[mr,v]=len(count_over_v.index)\n",
    "#     print(marker_array)\n",
    "    axCo = fig.add_subplot(gs[1,0])\n",
    "    for mr in range(len(markers)):\n",
    "        colorCo = color_dictionary[markers[mr]]\n",
    "        axCo.plot(marker_array[mr,:], colorCo)\n",
    "    \n",
    "    \n",
    "    \n",
    "    k = df['marker_type'].value_counts()\n",
    "    axKey = fig.add_subplot(gs[2,0])\n",
    "    axKey.set_title('ColorKey', fontsize=20)\n",
    "    axKey.set_xlim(0,3)\n",
    "    axKey.set_ylim(0,k.shape[0]+1)\n",
    "    axKey.xaxis.set_visible(False)\n",
    "    axKey.yaxis.set_visible(False)\n",
    "    ypos=k.shape[0]\n",
    "    for ke, va in k.items():\n",
    "        kcirc = Circle((1,ypos),0.2,color=color_dictionary[ke])\n",
    "        axKey.add_patch(kcirc)\n",
    "        text_string = '{} ( {} )'.format(ke,va)\n",
    "        ktext = axKey.text(2,ypos,text_string,fontsize=10)\n",
    "        ypos=ypos-1\n",
    "        \n",
    "    \n",
    "\n",
    "w = widgets.interact_manual(plot_hist_img,\n",
    "                limits=widgets.IntRangeSlider(value=(0,255),\n",
    "                                             min=0,\n",
    "                                             max=255,\n",
    "                                             step=1,\n",
    "                                             description='Set Threshold:'),\n",
    "                radio_channel=widgets.Dropdown(options=list(range(full_image.shape[0])),\n",
    "                                              value=1,\n",
    "                                              description='Channel:'),\n",
    "                marker_size=widgets.BoundedIntText(value=90,\n",
    "                                                  description='Dot Size:')\n",
    "                \n",
    "                    )\n",
    "display(w)"
   ]
  },
  {
   "cell_type": "code",
   "execution_count": null,
   "metadata": {},
   "outputs": [],
   "source": []
  }
 ],
 "metadata": {
  "kernelspec": {
   "display_name": "Python 3",
   "language": "python",
   "name": "python3"
  },
  "language_info": {
   "codemirror_mode": {
    "name": "ipython",
    "version": 3
   },
   "file_extension": ".py",
   "mimetype": "text/x-python",
   "name": "python",
   "nbconvert_exporter": "python",
   "pygments_lexer": "ipython3",
   "version": "3.7.7"
  }
 },
 "nbformat": 4,
 "nbformat_minor": 4
}
